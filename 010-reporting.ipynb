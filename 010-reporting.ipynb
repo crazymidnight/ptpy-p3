{
 "cells": [
  {
   "cell_type": "markdown",
   "metadata": {},
   "source": [
    "# Отчёт о результатах сканирования\n",
    "![](_static/cmpl-reporting.png)"
   ]
  },
  {
   "cell_type": "markdown",
   "metadata": {},
   "source": [
    "## Как именно будет происходить генерация pdf отчёта\n",
    "![](_static/reporting-data-to-pdf.png)"
   ]
  },
  {
   "cell_type": "markdown",
   "metadata": {},
   "source": [
    "## jinja2\n",
    "### Основная идея шаблонизации"
   ]
  },
  {
   "cell_type": "code",
   "execution_count": 31,
   "metadata": {
    "collapsed": false
   },
   "outputs": [
    {
     "data": {
      "text/plain": [
       "'Hello, mike'"
      ]
     },
     "execution_count": 31,
     "metadata": {},
     "output_type": "execute_result"
    }
   ],
   "source": [
    "'Hello, {name}'.format(name='mike') \n"
   ]
  },
  {
   "cell_type": "markdown",
   "metadata": {},
   "source": [
    "Форматные строки это хрошо, с помощью них можно параметризировать например регулярные выражения или html."
   ]
  },
  {
   "cell_type": "code",
   "execution_count": 33,
   "metadata": {
    "collapsed": true
   },
   "outputs": [],
   "source": [
    "html_tpl = '''\n",
    "<!doctype html>\n",
    "<html>\n",
    "    <head>\n",
    "        <meta charset=\"utf-8\"/>\n",
    "        <title>{name}'s Homepage</title>\n",
    "    </head>\n",
    "    <body>\n",
    "        <b><i>Hello, {name} </i></b>\n",
    "    </div>\n",
    "    </body>\n",
    "</html>'''"
   ]
  },
  {
   "cell_type": "code",
   "execution_count": 34,
   "metadata": {
    "collapsed": false
   },
   "outputs": [
    {
     "data": {
      "text/html": [
       "\n",
       "<!doctype html>\n",
       "<html>\n",
       "    <head>\n",
       "        <meta charset=\"utf-8\"/>\n",
       "        <title>Mike's Homepage</title>\n",
       "    </head>\n",
       "    <body>\n",
       "        <b><i>Hello, Mike </i></b>\n",
       "    </div>\n",
       "    </body>\n",
       "</html>"
      ],
      "text/plain": [
       "<IPython.core.display.HTML object>"
      ]
     },
     "metadata": {},
     "output_type": "display_data"
    }
   ],
   "source": [
    "from IPython.core.display import display, HTML\n",
    "display(HTML(html_tpl.format(name='Mike')))"
   ]
  },
  {
   "cell_type": "code",
   "execution_count": 36,
   "metadata": {
    "collapsed": true
   },
   "outputs": [],
   "source": [
    "html_tpl = '''\n",
    "<!doctype html>\n",
    "<html>\n",
    "    <head>\n",
    "        <meta charset=\"utf-8\"/>\n",
    "        <meta name={{ name }}>\n",
    "        <style type=\"text/css\">\n",
    "        .my_style {\n",
    "        }\n",
    "        </style>\n",
    "        <title>{name}'s Homepage</title>\n",
    "    </head>\n",
    "    <body>\n",
    "    <pre class=\"my_style\">Hello, {{ name }}</pre>\n",
    "    </body>\n",
    "</html>'''"
   ]
  },
  {
   "cell_type": "code",
   "execution_count": 37,
   "metadata": {
    "collapsed": false
   },
   "outputs": [
    {
     "ename": "KeyError",
     "evalue": "'\\n        '",
     "output_type": "error",
     "traceback": [
      "\u001b[0;31m---------------------------------------------------------------------------\u001b[0m",
      "\u001b[0;31mKeyError\u001b[0m                                  Traceback (most recent call last)",
      "\u001b[0;32m<ipython-input-37-c3d3f85c7271>\u001b[0m in \u001b[0;36m<module>\u001b[0;34m()\u001b[0m\n\u001b[0;32m----> 1\u001b[0;31m \u001b[0mdisplay\u001b[0m\u001b[0;34m(\u001b[0m\u001b[0mHTML\u001b[0m\u001b[0;34m(\u001b[0m\u001b[0mhtml_tpl\u001b[0m\u001b[0;34m.\u001b[0m\u001b[0mformat\u001b[0m\u001b[0;34m(\u001b[0m\u001b[0mname\u001b[0m\u001b[0;34m=\u001b[0m\u001b[0;34m'Mike'\u001b[0m\u001b[0;34m)\u001b[0m\u001b[0;34m)\u001b[0m\u001b[0;34m)\u001b[0m\u001b[0;34m\u001b[0m\u001b[0m\n\u001b[0m",
      "\u001b[0;31mKeyError\u001b[0m: '\\n        '"
     ]
    }
   ],
   "source": [
    "display(HTML(html_tpl.format(name='Mike')))"
   ]
  },
  {
   "cell_type": "code",
   "execution_count": 38,
   "metadata": {
    "collapsed": false
   },
   "outputs": [
    {
     "data": {
      "text/html": [
       "\n",
       "<!doctype html>\n",
       "<html>\n",
       "    <head>\n",
       "        <meta charset=\"utf-8\"/>\n",
       "        <meta name=Mike>\n",
       "        <style type=\"text/css\">\n",
       "        .my_style {\n",
       "        }\n",
       "        </style>\n",
       "        <title>{name}'s Homepage</title>\n",
       "    </head>\n",
       "    <body>\n",
       "    <pre class=\"my_style\">Hello, Mike</pre>\n",
       "    </body>\n",
       "</html>"
      ],
      "text/plain": [
       "<IPython.core.display.HTML object>"
      ]
     },
     "metadata": {},
     "output_type": "display_data"
    }
   ],
   "source": [
    "from jinja2 import Environment, BaseLoader\n",
    "\n",
    "rtemplate = Environment(loader=BaseLoader).from_string(html_tpl)\n",
    "rendered_html = rtemplate.render(name='Mike')\n",
    "\n",
    "display(HTML(rendered_html))"
   ]
  },
  {
   "cell_type": "markdown",
   "metadata": {},
   "source": [
    "Хочется еще много всякого, загружать из внешнегофайла, чтобы редактирвоание шаблонов было независимым от программирования.\n",
    "Циклы, наследование, включение блоков."
   ]
  },
  {
   "cell_type": "markdown",
   "metadata": {},
   "source": [
    "http://jinja.pocoo.org/docs/2.10/"
   ]
  },
  {
   "cell_type": "code",
   "execution_count": 39,
   "metadata": {
    "collapsed": false
   },
   "outputs": [
    {
     "name": "stdout",
     "output_type": "stream",
     "text": [
      "Requirement already satisfied (use --upgrade to upgrade): jinja2 in /var/www/jupyter/prod/lib/python2.7/site-packages\r\n",
      "Cleaning up...\r\n"
     ]
    }
   ],
   "source": [
    "!pip install jinja2"
   ]
  },
  {
   "cell_type": "markdown",
   "metadata": {},
   "source": [
    "### Инициализация"
   ]
  },
  {
   "cell_type": "code",
   "execution_count": 8,
   "metadata": {
    "collapsed": true
   },
   "outputs": [],
   "source": [
    "from jinja2 import Environment, PackageLoader, FileSystemLoader, select_autoescape\n",
    "env = Environment(\n",
    "    loader=FileSystemLoader('templates'),\n",
    "    autoescape=select_autoescape(['html', 'xml'])\n",
    ")"
   ]
  },
  {
   "cell_type": "code",
   "execution_count": 9,
   "metadata": {
    "collapsed": true
   },
   "outputs": [],
   "source": [
    "# autoescape - автоматическое экранирование специальных символов в html \n",
    "# loader - загрузчик, шаблон можно получить разными способами из строки (см. выше) или из файла"
   ]
  },
  {
   "cell_type": "markdown",
   "metadata": {},
   "source": [
    "### Переменные\n",
    "`{{ param }}` - так обозначается подстановка переменных. "
   ]
  },
  {
   "cell_type": "markdown",
   "metadata": {},
   "source": [
    "### Загрузка шаблона и рендеринг"
   ]
  },
  {
   "cell_type": "code",
   "execution_count": 41,
   "metadata": {
    "collapsed": false
   },
   "outputs": [
    {
     "data": {
      "text/plain": [
       "<Template 'test.html'>"
      ]
     },
     "execution_count": 41,
     "metadata": {},
     "output_type": "execute_result"
    }
   ],
   "source": [
    "test_tpl = env.get_template('test.html')\n",
    "test_tpl"
   ]
  },
  {
   "cell_type": "code",
   "execution_count": 42,
   "metadata": {
    "collapsed": false
   },
   "outputs": [
    {
     "name": "stdout",
     "output_type": "stream",
     "text": [
      "<!doctype html>\n",
      "<html>\n",
      "    <head>\n",
      "        <meta charset=\"utf-8\"/>\n",
      "        <style type=\"text/css\">\n",
      "        .my_style {\n",
      "            \n",
      "        }\n",
      "        </style>\n",
      "        <title>Mike's Homepage</title>\n",
      "    </head>\n",
      "    <body>\n",
      "        Mike \n",
      "    </body>\n",
      "</html>\n"
     ]
    }
   ],
   "source": [
    "rendered_html = test_tpl.render(name='Mike')\n",
    "print(rendered_html)\n"
   ]
  },
  {
   "cell_type": "code",
   "execution_count": 43,
   "metadata": {
    "collapsed": false
   },
   "outputs": [
    {
     "data": {
      "text/html": [
       "<!doctype html>\n",
       "<html>\n",
       "    <head>\n",
       "        <meta charset=\"utf-8\"/>\n",
       "        <style type=\"text/css\">\n",
       "        .my_style {\n",
       "            \n",
       "        }\n",
       "        </style>\n",
       "        <title>Mike's Homepage</title>\n",
       "    </head>\n",
       "    <body>\n",
       "        Mike \n",
       "    </body>\n",
       "</html>"
      ],
      "text/plain": [
       "<IPython.core.display.HTML object>"
      ]
     },
     "metadata": {},
     "output_type": "display_data"
    }
   ],
   "source": [
    "display(HTML(rendered_html))"
   ]
  },
  {
   "cell_type": "markdown",
   "metadata": {},
   "source": [
    "### Коментарии\n",
    "`{# This would take no effect #}`"
   ]
  },
  {
   "cell_type": "markdown",
   "metadata": {},
   "source": [
    "### Доступ по ключам словаря - через точку\n",
    "`{{ dict_.key }}` - так обозначается подстановка переменных. "
   ]
  },
  {
   "cell_type": "code",
   "execution_count": 44,
   "metadata": {
    "collapsed": true
   },
   "outputs": [],
   "source": [
    "user_data = dict(\n",
    "    name = \"Mike\",\n",
    "    email = \"mike@mike.com\"\n",
    ")"
   ]
  },
  {
   "cell_type": "code",
   "execution_count": 45,
   "metadata": {
    "collapsed": false
   },
   "outputs": [
    {
     "name": "stdout",
     "output_type": "stream",
     "text": [
      "<!doctype html>\n",
      "<html>\n",
      "    <head>\n",
      "        <meta charset=\"utf-8\"/>\n",
      "        <style type=\"text/css\">\n",
      "        .my_style {\n",
      "            \n",
      "        }\n",
      "        </style>\n",
      "        <title>Mike's Homepage</title>\n",
      "    </head>\n",
      "    <body>\n",
      "        <p> name:Mike </p>\n",
      "        <p> email:mike@mike.com </p>\n",
      "    </body>\n",
      "</html>\n"
     ]
    }
   ],
   "source": [
    "test_tpl = env.get_template('test.html')\n",
    "rendered_html = test_tpl.render(user_data=user_data)\n",
    "print(rendered_html)"
   ]
  },
  {
   "cell_type": "markdown",
   "metadata": {},
   "source": [
    "Кстати"
   ]
  },
  {
   "cell_type": "code",
   "execution_count": 46,
   "metadata": {
    "collapsed": false
   },
   "outputs": [
    {
     "data": {
      "text/plain": [
       "'This is Mike homepage! Email me at mike@mike.com'"
      ]
     },
     "execution_count": 46,
     "metadata": {},
     "output_type": "execute_result"
    }
   ],
   "source": [
    "'This is {user_data[name]} homepage! Email me at {user_data[email]}'.format(user_data=user_data)"
   ]
  },
  {
   "cell_type": "markdown",
   "metadata": {},
   "source": [
    "###  Циклы\n",
    "{% for user in users %}\n",
    "  <li><a href=\"{{ user.url }}\">{{ user.username }}</a></li>\n",
    "{% endfor %}"
   ]
  },
  {
   "cell_type": "code",
   "execution_count": 47,
   "metadata": {
    "collapsed": false
   },
   "outputs": [
    {
     "data": {
      "text/plain": [
       "'ed70c57d7564e994e7d5f6fd6967cea8b347efbc'"
      ]
     },
     "execution_count": 47,
     "metadata": {},
     "output_type": "execute_result"
    }
   ],
   "source": [
    "import hashlib\n",
    "hashlib.sha1('ff'.encode('utf8')).hexdigest()"
   ]
  },
  {
   "cell_type": "code",
   "execution_count": 48,
   "metadata": {
    "collapsed": true
   },
   "outputs": [],
   "source": [
    "user_list = ['user {}'.format(n) for n in range(0, 10)]\n",
    "pwd_hash_list = [hashlib.sha1(username.encode('utf8')).hexdigest() for username in user_list]"
   ]
  },
  {
   "cell_type": "code",
   "execution_count": 49,
   "metadata": {
    "collapsed": true
   },
   "outputs": [],
   "source": [
    "from collections import namedtuple\n",
    "User = namedtuple('User','name, pwd_hash')"
   ]
  },
  {
   "cell_type": "code",
   "execution_count": 50,
   "metadata": {
    "collapsed": false
   },
   "outputs": [
    {
     "data": {
      "text/plain": [
       "[User(name='user 0', pwd_hash='0e029f365a9139f037a6e54076e645b4b04d741a'),\n",
       " User(name='user 1', pwd_hash='40c4781874d18976c889831b1d061bdce211df40'),\n",
       " User(name='user 2', pwd_hash='be0be2895fa4913a698c240b63117745b153c121'),\n",
       " User(name='user 3', pwd_hash='4eb9a6f82b1b8156155e59b37fd84f2f5e03fc87'),\n",
       " User(name='user 4', pwd_hash='4d5fffe1a530e89f27cebde5c491af2c4d420fef'),\n",
       " User(name='user 5', pwd_hash='393748d27a163a49e4a171c26e0793082ab398d2'),\n",
       " User(name='user 6', pwd_hash='f05e3d430b3f430e6f0b9c2002aed2c9dd0b090e'),\n",
       " User(name='user 7', pwd_hash='d77a6955a087b54dcb5c48c0c1588cfe246be1a7'),\n",
       " User(name='user 8', pwd_hash='609013053fa9dd58df8584836c651182235bdc65'),\n",
       " User(name='user 9', pwd_hash='ba932c9e70b22c88508565ed1888c95205d23b39')]"
      ]
     },
     "execution_count": 50,
     "metadata": {},
     "output_type": "execute_result"
    }
   ],
   "source": [
    "users = [User(name,pwd_hash) for name, pwd_hash in zip(user_list,pwd_hash_list)]\n",
    "users"
   ]
  },
  {
   "cell_type": "code",
   "execution_count": 51,
   "metadata": {
    "collapsed": false
   },
   "outputs": [
    {
     "name": "stdout",
     "output_type": "stream",
     "text": [
      "<!doctype html>\n",
      "<html>\n",
      "    <head>\n",
      "        <meta charset=\"utf-8\"/>\n",
      "        <style type=\"text/css\">\n",
      "        .my_style {\n",
      "            \n",
      "        }\n",
      "        </style>\n",
      "        <title>Mike's Homepage</title>\n",
      "    </head>\n",
      "    <body>\n",
      "        <p> name:Mike </p>\n",
      "        <p> email:mike@mike.com </p>\n",
      "         <article>\n",
      "             \n",
      "             <div>\n",
      "                 <p> User name: user 0 </p>\n",
      "                 <p> Password hash: 0e029f365a9139f037a6e54076e645b4b04d741a </p>\n",
      "             </div>\n",
      "             \n",
      "             <div>\n",
      "                 <p> User name: user 1 </p>\n",
      "                 <p> Password hash: 40c4781874d18976c889831b1d061bdce211df40 </p>\n",
      "             </div>\n",
      "             \n",
      "             <div>\n",
      "                 <p> User name: user 2 </p>\n",
      "                 <p> Password hash: be0be2895fa4913a698c240b63117745b153c121 </p>\n",
      "             </div>\n",
      "             \n",
      "             <div>\n",
      "                 <p> User name: user 3 </p>\n",
      "                 <p> Password hash: 4eb9a6f82b1b8156155e59b37fd84f2f5e03fc87 </p>\n",
      "             </div>\n",
      "             \n",
      "             <div>\n",
      "                 <p> User name: user 4 </p>\n",
      "                 <p> Password hash: 4d5fffe1a530e89f27cebde5c491af2c4d420fef </p>\n",
      "             </div>\n",
      "             \n",
      "             <div>\n",
      "                 <p> User name: user 5 </p>\n",
      "                 <p> Password hash: 393748d27a163a49e4a171c26e0793082ab398d2 </p>\n",
      "             </div>\n",
      "             \n",
      "             <div>\n",
      "                 <p> User name: user 6 </p>\n",
      "                 <p> Password hash: f05e3d430b3f430e6f0b9c2002aed2c9dd0b090e </p>\n",
      "             </div>\n",
      "             \n",
      "             <div>\n",
      "                 <p> User name: user 7 </p>\n",
      "                 <p> Password hash: d77a6955a087b54dcb5c48c0c1588cfe246be1a7 </p>\n",
      "             </div>\n",
      "             \n",
      "             <div>\n",
      "                 <p> User name: user 8 </p>\n",
      "                 <p> Password hash: 609013053fa9dd58df8584836c651182235bdc65 </p>\n",
      "             </div>\n",
      "             \n",
      "             <div>\n",
      "                 <p> User name: user 9 </p>\n",
      "                 <p> Password hash: ba932c9e70b22c88508565ed1888c95205d23b39 </p>\n",
      "             </div>\n",
      "             \n",
      "        </article>\n",
      "    </body>\n",
      "</html>\n"
     ]
    }
   ],
   "source": [
    "test_tpl = env.get_template('test.html')\n",
    "rendered_html = test_tpl.render(user_data=user_data,users=users)\n",
    "print(rendered_html)"
   ]
  },
  {
   "cell_type": "code",
   "execution_count": 52,
   "metadata": {
    "collapsed": false
   },
   "outputs": [
    {
     "data": {
      "text/html": [
       "<!doctype html>\n",
       "<html>\n",
       "    <head>\n",
       "        <meta charset=\"utf-8\"/>\n",
       "        <style type=\"text/css\">\n",
       "        .my_style {\n",
       "            \n",
       "        }\n",
       "        </style>\n",
       "        <title>Mike's Homepage</title>\n",
       "    </head>\n",
       "    <body>\n",
       "        <p> name:Mike </p>\n",
       "        <p> email:mike@mike.com </p>\n",
       "         <article>\n",
       "             \n",
       "             <div>\n",
       "                 <p> User name: user 0 </p>\n",
       "                 <p> Password hash: 0e029f365a9139f037a6e54076e645b4b04d741a </p>\n",
       "             </div>\n",
       "             \n",
       "             <div>\n",
       "                 <p> User name: user 1 </p>\n",
       "                 <p> Password hash: 40c4781874d18976c889831b1d061bdce211df40 </p>\n",
       "             </div>\n",
       "             \n",
       "             <div>\n",
       "                 <p> User name: user 2 </p>\n",
       "                 <p> Password hash: be0be2895fa4913a698c240b63117745b153c121 </p>\n",
       "             </div>\n",
       "             \n",
       "             <div>\n",
       "                 <p> User name: user 3 </p>\n",
       "                 <p> Password hash: 4eb9a6f82b1b8156155e59b37fd84f2f5e03fc87 </p>\n",
       "             </div>\n",
       "             \n",
       "             <div>\n",
       "                 <p> User name: user 4 </p>\n",
       "                 <p> Password hash: 4d5fffe1a530e89f27cebde5c491af2c4d420fef </p>\n",
       "             </div>\n",
       "             \n",
       "             <div>\n",
       "                 <p> User name: user 5 </p>\n",
       "                 <p> Password hash: 393748d27a163a49e4a171c26e0793082ab398d2 </p>\n",
       "             </div>\n",
       "             \n",
       "             <div>\n",
       "                 <p> User name: user 6 </p>\n",
       "                 <p> Password hash: f05e3d430b3f430e6f0b9c2002aed2c9dd0b090e </p>\n",
       "             </div>\n",
       "             \n",
       "             <div>\n",
       "                 <p> User name: user 7 </p>\n",
       "                 <p> Password hash: d77a6955a087b54dcb5c48c0c1588cfe246be1a7 </p>\n",
       "             </div>\n",
       "             \n",
       "             <div>\n",
       "                 <p> User name: user 8 </p>\n",
       "                 <p> Password hash: 609013053fa9dd58df8584836c651182235bdc65 </p>\n",
       "             </div>\n",
       "             \n",
       "             <div>\n",
       "                 <p> User name: user 9 </p>\n",
       "                 <p> Password hash: ba932c9e70b22c88508565ed1888c95205d23b39 </p>\n",
       "             </div>\n",
       "             \n",
       "        </article>\n",
       "    </body>\n",
       "</html>"
      ],
      "text/plain": [
       "<IPython.core.display.HTML object>"
      ]
     },
     "metadata": {},
     "output_type": "display_data"
    }
   ],
   "source": [
    "display(HTML(rendered_html))"
   ]
  },
  {
   "cell_type": "markdown",
   "metadata": {},
   "source": [
    "### Weasyprint\n",
    "http://weasyprint.readthedocs.io/en/latest/tutorial.html#as-a-python-library"
   ]
  },
  {
   "cell_type": "code",
   "execution_count": 53,
   "metadata": {
    "collapsed": false
   },
   "outputs": [
    {
     "name": "stdout",
     "output_type": "stream",
     "text": [
      "Requirement already satisfied (use --upgrade to upgrade): weasyprint in /var/www/jupyter/prod/lib/python2.7/site-packages\r\n",
      "Requirement already satisfied (use --upgrade to upgrade): html5lib>=0.999999999 in /var/www/jupyter/prod/lib/python2.7/site-packages (from weasyprint)\r\n",
      "Requirement already satisfied (use --upgrade to upgrade): tinycss2>=0.5 in /var/www/jupyter/prod/lib/python2.7/site-packages (from weasyprint)\r\n",
      "Requirement already satisfied (use --upgrade to upgrade): cssselect2>=0.1 in /var/www/jupyter/prod/lib/python2.7/site-packages (from weasyprint)\r\n",
      "Requirement already satisfied (use --upgrade to upgrade): cffi>=0.6 in /var/www/jupyter/prod/lib/python2.7/site-packages (from weasyprint)\r\n",
      "Requirement already satisfied (use --upgrade to upgrade): cairocffi>=0.5 in /var/www/jupyter/prod/lib/python2.7/site-packages (from weasyprint)\r\n",
      "Requirement already satisfied (use --upgrade to upgrade): Pyphen>=0.8 in /var/www/jupyter/prod/lib/python2.7/site-packages (from weasyprint)\r\n",
      "Requirement already satisfied (use --upgrade to upgrade): pdfrw>=0.4 in /var/www/jupyter/prod/lib/python2.7/site-packages (from weasyprint)\r\n",
      "Requirement already satisfied (use --upgrade to upgrade): pycparser in /var/www/jupyter/prod/lib/python2.7/site-packages (from cffi>=0.6->weasyprint)\r\n",
      "Cleaning up...\r\n"
     ]
    }
   ],
   "source": [
    "!pip install weasyprint"
   ]
  },
  {
   "cell_type": "code",
   "execution_count": 54,
   "metadata": {
    "collapsed": false
   },
   "outputs": [],
   "source": [
    "from weasyprint import HTML\n",
    "HTML(url='http://weasyprint.org').write_pdf('./weasyprint.org.pdf')"
   ]
  },
  {
   "cell_type": "markdown",
   "metadata": {},
   "source": [
    "Можно генерировать pdf или png файлы из \n",
    "    * Сайтов\n",
    "    * Html файлов\n",
    "    * Строк с html "
   ]
  },
  {
   "cell_type": "code",
   "execution_count": 55,
   "metadata": {
    "collapsed": false
   },
   "outputs": [
    {
     "data": {
      "text/plain": [
       "<weasyprint.document.Document at 0x7f96e85a8d68>"
      ]
     },
     "execution_count": 55,
     "metadata": {},
     "output_type": "execute_result"
    }
   ],
   "source": [
    "document = HTML(string=rendered_html).render()\n",
    "document"
   ]
  },
  {
   "cell_type": "code",
   "execution_count": 56,
   "metadata": {
    "collapsed": false
   },
   "outputs": [
    {
     "data": {
      "text/plain": [
       "1"
      ]
     },
     "execution_count": 56,
     "metadata": {},
     "output_type": "execute_result"
    }
   ],
   "source": [
    "len(document.pages)"
   ]
  },
  {
   "cell_type": "code",
   "execution_count": 57,
   "metadata": {
    "collapsed": false
   },
   "outputs": [
    {
     "data": {
      "text/plain": [
       "[]"
      ]
     },
     "execution_count": 57,
     "metadata": {},
     "output_type": "execute_result"
    }
   ],
   "source": [
    "document.pages[0].links"
   ]
  },
  {
   "cell_type": "code",
   "execution_count": 58,
   "metadata": {
    "collapsed": false
   },
   "outputs": [
    {
     "data": {
      "text/plain": [
       "\"Mike's Homepage\""
      ]
     },
     "execution_count": 58,
     "metadata": {},
     "output_type": "execute_result"
    }
   ],
   "source": [
    "document.metadata.title"
   ]
  },
  {
   "cell_type": "code",
   "execution_count": 59,
   "metadata": {
    "collapsed": true
   },
   "outputs": [],
   "source": [
    "document.write_pdf('mikes.pdf')"
   ]
  },
  {
   "cell_type": "markdown",
   "metadata": {},
   "source": [
    "### Шаблоны для отчётов"
   ]
  },
  {
   "cell_type": "markdown",
   "metadata": {},
   "source": [
    "\n"
   ]
  },
  {
   "cell_type": "code",
   "execution_count": 60,
   "metadata": {
    "collapsed": false
   },
   "outputs": [],
   "source": [
    "from weasyprint import HTML, CSS\n",
    "template = env.get_template('index.html')\n",
    "\n",
    "whtml = HTML(string=template.render().encode('utf8'))\n",
    "\n",
    "wcss = CSS(filename='./templates/style.css')\n",
    "\n",
    "whtml.write_pdf('sample_report.pdf',stylesheets=[wcss])"
   ]
  },
  {
   "cell_type": "markdown",
   "metadata": {
    "collapsed": true
   },
   "source": [
    "### Задача\n",
    "В модуле reporting.py реализовать функционал создания pdf отчета. Можно пользоваться как выше предложеными технологиями, так и любыми другими.\n",
    "Фунционал должен генеририровать pdf отчёт с использованием данных из таблицы scandata и фала env.json.\n",
    "* Информация о сканировании - дата, продолжительность, общее количество проверок, количество проверок по статусам.\n",
    "* Информация о системе - какие транспорты использовались, данные о подключении\n",
    "* Информация о каждом выполненом контроле - заголовок, описание, требование, статус (совместимо, несовместимо, ошибка)  \n",
    "В таблицы controls и scandata добавить соответвующие поля. \n",
    "\n",
    "Если отчет неполучится сделать именно в формате pdf. (неполучится поставить weasyprint и эксперементы с другими библиотеками не увенчаются успехом - отчет в формате html - ok)"
   ]
  },
  {
   "cell_type": "code",
   "execution_count": null,
   "metadata": {
    "collapsed": true
   },
   "outputs": [],
   "source": []
  }
 ],
 "metadata": {
  "kernelspec": {
   "display_name": "Python 3",
   "language": "python",
   "name": "python3"
  },
  "language_info": {
   "codemirror_mode": {
    "name": "ipython",
    "version": 3
   },
   "file_extension": ".py",
   "mimetype": "text/x-python",
   "name": "python",
   "nbconvert_exporter": "python",
   "pygments_lexer": "ipython3",
   "version": "3.4.3"
  },
  "varInspector": {
   "cols": {
    "lenName": 16,
    "lenType": 16,
    "lenVar": 40
   },
   "kernels_config": {
    "python": {
     "delete_cmd_postfix": "",
     "delete_cmd_prefix": "del ",
     "library": "var_list.py",
     "varRefreshCmd": "print(var_dic_list())"
    },
    "r": {
     "delete_cmd_postfix": ") ",
     "delete_cmd_prefix": "rm(",
     "library": "var_list.r",
     "varRefreshCmd": "cat(var_dic_list()) "
    }
   },
   "types_to_exclude": [
    "module",
    "function",
    "builtin_function_or_method",
    "instance",
    "_Feature"
   ],
   "window_display": false
  }
 },
 "nbformat": 4,
 "nbformat_minor": 2
}
