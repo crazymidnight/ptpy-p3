{
 "cells": [
  {
   "cell_type": "markdown",
   "metadata": {},
   "source": [
    "![](_static/cmpl-sql.png)"
   ]
  },
  {
   "cell_type": "markdown",
   "metadata": {},
   "source": [
    "### Container"
   ]
  },
  {
   "cell_type": "code",
   "execution_count": 47,
   "metadata": {
    "collapsed": false
   },
   "outputs": [
    {
     "name": "stdout",
     "output_type": "stream",
     "text": [
      "Using default tag: latest\n",
      "latest: Pulling from library/mariadb\n",
      "Digest: sha256:6135f5b851e7fe263dcf0edf3480cdab1ab28c4287e867c5d83fbe967412ea14\n",
      "Status: Image is up to date for mariadb:latest\n"
     ]
    }
   ],
   "source": [
    "# https://hub.docker.com/_/mariadb/\n",
    "# !docker rmi mariadb \n",
    "!docker pull mariadb"
   ]
  },
  {
   "cell_type": "code",
   "execution_count": 51,
   "metadata": {
    "collapsed": false
   },
   "outputs": [
    {
     "name": "stdout",
     "output_type": "stream",
     "text": [
      "CONTAINER ID        IMAGE               COMMAND                  CREATED              STATUS              PORTS                       NAMES\r\n",
      "1100623e04ff        mariadb:latest      \"docker-entrypoint.s…\"   About a minute ago   Up About a minute   127.0.0.1:43306->3306/tcp   some-mariadb\r\n"
     ]
    }
   ],
   "source": [
    "!docker ps"
   ]
  },
  {
   "cell_type": "code",
   "execution_count": null,
   "metadata": {
    "collapsed": false
   },
   "outputs": [
    {
     "name": "stdout",
     "output_type": "stream",
     "text": [
      "Initializing database\n",
      "\n",
      "PLEASE REMEMBER TO SET A PASSWORD FOR THE MariaDB root USER !\n",
      "To do so, start the server, then issue the following commands:\n",
      "\n",
      "'/usr/bin/mysqladmin' -u root password 'new-password'\n",
      "'/usr/bin/mysqladmin' -u root -h  password 'new-password'\n",
      "\n",
      "Alternatively you can run:\n",
      "'/usr/bin/mysql_secure_installation'\n",
      "\n",
      "which will also give you the option of removing the test\n",
      "databases and anonymous user created by default.  This is\n",
      "strongly recommended for production servers.\n",
      "\n",
      "See the MariaDB Knowledgebase at http://mariadb.com/kb or the\n",
      "MySQL manual for more instructions.\n",
      "\n",
      "Please report any problems at http://mariadb.org/jira\n",
      "\n",
      "The latest information about MariaDB is available at http://mariadb.org/.\n",
      "You can find additional information about the MySQL part at:\n",
      "http://dev.mysql.com\n",
      "Consider joining MariaDB's strong and vibrant community:\n",
      "https://mariadb.org/get-involved/\n",
      "\n",
      "Database initialized\n",
      "MySQL init process in progress...\n",
      "2018-04-26 12:16:49 140415099660160 [Note] mysqld (mysqld 10.2.14-MariaDB-10.2.14+maria~jessie) starting as process 100 ...\n",
      "2018-04-26 12:16:49 140415099660160 [Note] InnoDB: Mutexes and rw_locks use GCC atomic builtins\n",
      "2018-04-26 12:16:49 140415099660160 [Note] InnoDB: Uses event mutexes\n",
      "2018-04-26 12:16:49 140415099660160 [Note] InnoDB: Compressed tables use zlib 1.2.8\n",
      "2018-04-26 12:16:49 140415099660160 [Note] InnoDB: Using Linux native AIO\n",
      "2018-04-26 12:16:49 140415099660160 [Note] InnoDB: Number of pools: 1\n",
      "2018-04-26 12:16:49 140415099660160 [Note] InnoDB: Using SSE2 crc32 instructions\n",
      "2018-04-26 12:16:49 140415099660160 [Note] InnoDB: Initializing buffer pool, total size = 256M, instances = 1, chunk size = 128M\n",
      "2018-04-26 12:16:49 140415099660160 [Note] InnoDB: Completed initialization of buffer pool\n",
      "2018-04-26 12:16:49 140414354388736 [Note] InnoDB: If the mysqld execution user is authorized, page cleaner thread priority can be changed. See the man page of setpriority().\n",
      "2018-04-26 12:16:49 140415099660160 [Note] InnoDB: Highest supported file format is Barracuda.\n",
      "2018-04-26 12:16:49 140415099660160 [Note] InnoDB: 128 out of 128 rollback segments are active.\n",
      "2018-04-26 12:16:49 140415099660160 [Note] InnoDB: Creating shared tablespace for temporary tables\n",
      "2018-04-26 12:16:49 140415099660160 [Note] InnoDB: Setting file './ibtmp1' size to 12 MB. Physically writing the file full; Please wait ...\n",
      "2018-04-26 12:16:49 140415099660160 [Note] InnoDB: File './ibtmp1' size is now 12 MB.\n",
      "2018-04-26 12:16:49 140415099660160 [Note] InnoDB: 5.7.21 started; log sequence number 1619987\n",
      "2018-04-26 12:16:49 140414065559296 [Note] InnoDB: Loading buffer pool(s) from /var/lib/mysql/ib_buffer_pool\n",
      "2018-04-26 12:16:49 140415099660160 [Note] Plugin 'FEEDBACK' is disabled.\n",
      "2018-04-26 12:16:49 140415099660160 [Warning] 'user' entry 'root@d75488f89217' ignored in --skip-name-resolve mode.\n",
      "2018-04-26 12:16:49 140415099660160 [Warning] 'proxies_priv' entry '@% root@d75488f89217' ignored in --skip-name-resolve mode.\n",
      "2018-04-26 12:16:49 140414065559296 [Note] InnoDB: Buffer pool(s) load completed at 180426 12:16:49\n",
      "2018-04-26 12:16:49 140415099660160 [Note] Reading of all Master_info entries succeded\n",
      "2018-04-26 12:16:49 140415099660160 [Note] Added new Master_info '' to hash table\n",
      "2018-04-26 12:16:49 140415099660160 [Note] mysqld: ready for connections.\n",
      "Version: '10.2.14-MariaDB-10.2.14+maria~jessie'  socket: '/var/run/mysqld/mysqld.sock'  port: 0  mariadb.org binary distribution\n",
      "Warning: Unable to load '/usr/share/zoneinfo/leap-seconds.list' as time zone. Skipping it.\n",
      "2018-04-26 12:16:51 140414898448128 [Warning] 'proxies_priv' entry '@% root@d75488f89217' ignored in --skip-name-resolve mode.\n",
      "2018-04-26 12:16:51 140414898448128 [Warning] 'proxies_priv' entry '@% root@d75488f89217' ignored in --skip-name-resolve mode.\n",
      "\n",
      "2018-04-26 12:16:51 140414898145024 [Note] mysqld (initiated by: unknown): Normal shutdown\n",
      "2018-04-26 12:16:51 140414898145024 [Note] Event Scheduler: Purging the queue. 0 events\n",
      "2018-04-26 12:16:51 140414301914880 [Note] InnoDB: FTS optimize thread exiting.\n",
      "2018-04-26 12:16:51 140414898145024 [Note] InnoDB: Starting shutdown...\n",
      "2018-04-26 12:16:51 140414065559296 [Note] InnoDB: Dumping buffer pool(s) to /var/lib/mysql/ib_buffer_pool\n",
      "2018-04-26 12:16:51 140414065559296 [Note] InnoDB: Buffer pool(s) dump completed at 180426 12:16:51\n",
      "2018-04-26 12:16:52 140414898145024 [Note] InnoDB: Shutdown completed; log sequence number 1620006\n",
      "2018-04-26 12:16:52 140414898145024 [Note] InnoDB: Removed temporary tablespace data file: \"ibtmp1\"\n",
      "2018-04-26 12:16:52 140414898145024 [Note] mysqld: Shutdown complete\n",
      "\n",
      "\n",
      "MySQL init process done. Ready for start up.\n",
      "\n",
      "2018-04-26 12:16:52 140022890420096 [Note] mysqld (mysqld 10.2.14-MariaDB-10.2.14+maria~jessie) starting as process 1 ...\n",
      "2018-04-26 12:16:52 140022890420096 [Note] InnoDB: Mutexes and rw_locks use GCC atomic builtins\n",
      "2018-04-26 12:16:52 140022890420096 [Note] InnoDB: Uses event mutexes\n",
      "2018-04-26 12:16:52 140022890420096 [Note] InnoDB: Compressed tables use zlib 1.2.8\n",
      "2018-04-26 12:16:52 140022890420096 [Note] InnoDB: Using Linux native AIO\n",
      "2018-04-26 12:16:52 140022890420096 [Note] InnoDB: Number of pools: 1\n",
      "2018-04-26 12:16:52 140022890420096 [Note] InnoDB: Using SSE2 crc32 instructions\n",
      "2018-04-26 12:16:52 140022890420096 [Note] InnoDB: Initializing buffer pool, total size = 256M, instances = 1, chunk size = 128M\n",
      "2018-04-26 12:16:52 140022890420096 [Note] InnoDB: Completed initialization of buffer pool\n",
      "2018-04-26 12:16:52 140022145324800 [Note] InnoDB: If the mysqld execution user is authorized, page cleaner thread priority can be changed. See the man page of setpriority().\n",
      "2018-04-26 12:16:52 140022890420096 [Note] InnoDB: Highest supported file format is Barracuda.\n",
      "2018-04-26 12:16:52 140022890420096 [Note] InnoDB: 128 out of 128 rollback segments are active.\n",
      "2018-04-26 12:16:52 140022890420096 [Note] InnoDB: Creating shared tablespace for temporary tables\n",
      "2018-04-26 12:16:52 140022890420096 [Note] InnoDB: Setting file './ibtmp1' size to 12 MB. Physically writing the file full; Please wait ...\n",
      "2018-04-26 12:16:52 140022890420096 [Note] InnoDB: File './ibtmp1' size is now 12 MB.\n",
      "2018-04-26 12:16:52 140022890420096 [Note] InnoDB: 5.7.21 started; log sequence number 1620006\n",
      "2018-04-26 12:16:52 140021570991872 [Note] InnoDB: Loading buffer pool(s) from /var/lib/mysql/ib_buffer_pool\n",
      "2018-04-26 12:16:52 140022890420096 [Note] Plugin 'FEEDBACK' is disabled.\n",
      "2018-04-26 12:16:52 140022890420096 [Note] Server socket created on IP: '::'.\n",
      "2018-04-26 12:16:52 140022890420096 [Warning] 'proxies_priv' entry '@% root@d75488f89217' ignored in --skip-name-resolve mode.\n",
      "2018-04-26 12:16:52 140021570991872 [Note] InnoDB: Buffer pool(s) load completed at 180426 12:16:52\n",
      "2018-04-26 12:16:52 140022890420096 [Note] Reading of all Master_info entries succeded\n",
      "2018-04-26 12:16:52 140022890420096 [Note] Added new Master_info '' to hash table\n",
      "2018-04-26 12:16:52 140022890420096 [Note] mysqld: ready for connections.\n",
      "Version: '10.2.14-MariaDB-10.2.14+maria~jessie'  socket: '/var/run/mysqld/mysqld.sock'  port: 3306  mariadb.org binary distribution\n"
     ]
    }
   ],
   "source": [
    "!docker run --name some-mariadb -p 127.0.0.1:43306:3306 -e MYSQL_ROOT_PASSWORD=pwd123 -e MYSQL_USER=sauser -e MYSQL_PASSWORD=sapassword -e MYSQL_DATABASE=sadb --rm mariadb:latest"
   ]
  },
  {
   "cell_type": "code",
   "execution_count": 53,
   "metadata": {
    "collapsed": false
   },
   "outputs": [
    {
     "name": "stdout",
     "output_type": "stream",
     "text": [
      "CONTAINER ID        IMAGE               COMMAND                  CREATED              STATUS              PORTS                       NAMES\r\n",
      "1100623e04ff        mariadb:latest      \"docker-entrypoint.s…\"   About a minute ago   Up About a minute   127.0.0.1:43306->3306/tcp   some-mariadb\r\n"
     ]
    }
   ],
   "source": [
    "!docker ps"
   ]
  },
  {
   "cell_type": "markdown",
   "metadata": {},
   "source": [
    "### Console"
   ]
  },
  {
   "cell_type": "markdown",
   "metadata": {},
   "source": [
    "`docker exec -it some-mariadb bash -c 'exec mysql -hlocalhost -P3306 -uroot -p`"
   ]
  },
  {
   "cell_type": "markdown",
   "metadata": {},
   "source": [
    "`mysql -hlocalhost -P43306 -uroot -p --protocol=TCP`"
   ]
  },
  {
   "cell_type": "markdown",
   "metadata": {},
   "source": [
    "### Python"
   ]
  },
  {
   "cell_type": "code",
   "execution_count": 54,
   "metadata": {
    "collapsed": false
   },
   "outputs": [
    {
     "name": "stdout",
     "output_type": "stream",
     "text": [
      "Requirement already satisfied (use --upgrade to upgrade): PyMySQL in /var/www/jupyter/prod/lib/python2.7/site-packages\r\n",
      "Cleaning up...\r\n"
     ]
    }
   ],
   "source": [
    "!pip install PyMySQL"
   ]
  },
  {
   "cell_type": "code",
   "execution_count": 55,
   "metadata": {
    "collapsed": false
   },
   "outputs": [],
   "source": [
    "import pymysql.cursors\n"
   ]
  },
  {
   "cell_type": "code",
   "execution_count": 57,
   "metadata": {
    "collapsed": true
   },
   "outputs": [],
   "source": [
    "connection = pymysql.connect(host='127.0.0.1',\n",
    "                             user='root',\n",
    "                             port=43306,\n",
    "                             password='pwd123',\n",
    "                             db='sadb',\n",
    "                             charset='utf8',\n",
    "                             cursorclass=pymysql.cursors.DictCursor,\n",
    "                             unix_socket=False)\n"
   ]
  },
  {
   "cell_type": "code",
   "execution_count": 58,
   "metadata": {
    "collapsed": false
   },
   "outputs": [],
   "source": [
    "with connection.cursor() as cursor:\n",
    "    cursor.execute('''\n",
    "    CREATE TABLE `users` (\n",
    "    `id` int(11) NOT NULL AUTO_INCREMENT,\n",
    "    `email` varchar(255) COLLATE utf8_bin NOT NULL,\n",
    "    `password` varchar(255) COLLATE utf8_bin NOT NULL,\n",
    "    PRIMARY KEY (`id`)\n",
    "        ) ENGINE=InnoDB DEFAULT CHARSET=utf8 COLLATE=utf8_bin\n",
    "        AUTO_INCREMENT=1 ;''')"
   ]
  },
  {
   "cell_type": "code",
   "execution_count": 59,
   "metadata": {
    "collapsed": false
   },
   "outputs": [],
   "source": [
    "with connection.cursor() as cursor:\n",
    "    sql = \"INSERT INTO `users` (`email`, `password`) VALUES (%s, %s)\"\n",
    "    cursor.execute(sql, ('webmaster@python.org', 'very-secret'))"
   ]
  },
  {
   "cell_type": "code",
   "execution_count": 60,
   "metadata": {
    "collapsed": false
   },
   "outputs": [],
   "source": [
    "connection.commit()"
   ]
  },
  {
   "cell_type": "code",
   "execution_count": 61,
   "metadata": {
    "collapsed": false
   },
   "outputs": [
    {
     "name": "stdout",
     "output_type": "stream",
     "text": [
      "{'password': 'very-secret', 'id': 1}\n"
     ]
    }
   ],
   "source": [
    "with connection.cursor() as cursor:\n",
    "    sql = \"SELECT `id`, `password` FROM `users` WHERE `email`=%s\"\n",
    "    cursor.execute(sql, ('webmaster@python.org',))\n",
    "    result = cursor.fetchone()\n",
    "    print(result)\n",
    "\n"
   ]
  },
  {
   "cell_type": "code",
   "execution_count": 37,
   "metadata": {
    "collapsed": false
   },
   "outputs": [],
   "source": [
    "connection.close()"
   ]
  },
  {
   "cell_type": "markdown",
   "metadata": {
    "collapsed": true
   },
   "source": [
    "### Очистка"
   ]
  },
  {
   "cell_type": "code",
   "execution_count": 62,
   "metadata": {
    "collapsed": false
   },
   "outputs": [
    {
     "name": "stdout",
     "output_type": "stream",
     "text": [
      "CONTAINER ID        IMAGE               COMMAND                  CREATED             STATUS              PORTS                       NAMES\r\n",
      "1100623e04ff        mariadb:latest      \"docker-entrypoint.s…\"   11 minutes ago      Up 11 minutes       127.0.0.1:43306->3306/tcp   some-mariadb\r\n"
     ]
    }
   ],
   "source": [
    "!docker container ls"
   ]
  },
  {
   "cell_type": "code",
   "execution_count": 63,
   "metadata": {
    "collapsed": false
   },
   "outputs": [
    {
     "name": "stdout",
     "output_type": "stream",
     "text": [
      "some-mariadb\r\n"
     ]
    }
   ],
   "source": [
    "!docker container stop some-mariadb"
   ]
  },
  {
   "cell_type": "code",
   "execution_count": 64,
   "metadata": {
    "collapsed": false
   },
   "outputs": [
    {
     "name": "stdout",
     "output_type": "stream",
     "text": [
      "CONTAINER ID        IMAGE               COMMAND             CREATED             STATUS              PORTS               NAMES\r\n"
     ]
    }
   ],
   "source": [
    "!docker container ls"
   ]
  },
  {
   "cell_type": "markdown",
   "metadata": {
    "collapsed": true
   },
   "source": [
    "### Задача\n",
    "Реализовать класс транспорта mysql со следующим функционалом.  \n",
    "методы:  \n",
    "`sqlexec(sql)` - выполняет sql запрос на целевой системе, возвращает результат выполнения этого запроса. (не курсор, а данные)\n",
    "* Опционально подумать о том как возвращать не данные, а таблицу в sqlite\n",
    "\n",
    "\n",
    "Реализовать проверку наличия определенной базы данных и непустой таблицы в этой базе данных (названия на ваш выбор).\n",
    "* Опционально подумать как можно реализовать настраиваемость этого функционала.\n"
   ]
  },
  {
   "cell_type": "code",
   "execution_count": null,
   "metadata": {
    "collapsed": true
   },
   "outputs": [],
   "source": []
  }
 ],
 "metadata": {
  "kernelspec": {
   "display_name": "Python 3",
   "language": "python",
   "name": "python3"
  },
  "language_info": {
   "codemirror_mode": {
    "name": "ipython",
    "version": 3
   },
   "file_extension": ".py",
   "mimetype": "text/x-python",
   "name": "python",
   "nbconvert_exporter": "python",
   "pygments_lexer": "ipython3",
   "version": "3.4.3"
  },
  "varInspector": {
   "cols": {
    "lenName": 16,
    "lenType": 16,
    "lenVar": 40
   },
   "kernels_config": {
    "python": {
     "delete_cmd_postfix": "",
     "delete_cmd_prefix": "del ",
     "library": "var_list.py",
     "varRefreshCmd": "print(var_dic_list())"
    },
    "r": {
     "delete_cmd_postfix": ") ",
     "delete_cmd_prefix": "rm(",
     "library": "var_list.r",
     "varRefreshCmd": "cat(var_dic_list()) "
    }
   },
   "types_to_exclude": [
    "module",
    "function",
    "builtin_function_or_method",
    "instance",
    "_Feature"
   ],
   "window_display": false
  }
 },
 "nbformat": 4,
 "nbformat_minor": 2
}
