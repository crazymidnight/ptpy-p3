{
 "cells": [
  {
   "cell_type": "markdown",
   "metadata": {},
   "source": [
    "# Git, github и gitfow\n",
    "Рекомендуется:  \n",
    "https://git-scm.com/book/en/v2  \n",
    "https://git-scm.com/book/ru/v2  "
   ]
  },
  {
   "cell_type": "markdown",
   "metadata": {},
   "source": [
    "![](_static/git-flow.png)"
   ]
  },
  {
   "cell_type": "markdown",
   "metadata": {},
   "source": [
    "## Создаем репозиторий\n",
    "![](_static/create-repo.png)"
   ]
  },
  {
   "cell_type": "markdown",
   "metadata": {},
   "source": [
    "## Добавляем коллаборатора ptinternship\n",
    "![](_static/collaborators.png)"
   ]
  },
  {
   "cell_type": "markdown",
   "metadata": {},
   "source": [
    "## Настраиваем защищенный branch \n",
    "![](_static/protect-branch.png)\n",
    "![](_static/branch-protection-settings.png)"
   ]
  },
  {
   "cell_type": "markdown",
   "metadata": {},
   "source": [
    "#### Клонируем репозиторий                                                                                                                        \n",
    "`$git clone https://github.com/[YOURNAME]/[YOUREPONAME]`\n",
    "\n",
    "#### Создаём новый брэнч\n",
    "`$git branch develop`\n",
    "\n",
    "#### **Переключаемся в него**\n",
    "`$git checkout develop`                                                                                     \n",
    ">Switched to branch 'develop'   \n",
    "\n",
    "####  Копируем / редактируем файлы своего проекта               \n",
    "`$ vi README.md`  \n",
    "`$ vi main.py`  \n",
    "`$ cp /my_old_project_path/* ./`  \n",
    "\n",
    "#### Добавляем изменения в проект\n",
    "`$ git add .`\n",
    "\n",
    "#### Коммитим\n",
    "`$ git commit -m 'README test changes'`                                                                                                                                                                                                 \n",
    "#### Пушим новую ветку на гитхаб  \n",
    "`$ git push -u origin develop`\n"
   ]
  },
  {
   "cell_type": "markdown",
   "metadata": {
    "collapsed": true
   },
   "source": [
    "## Pull (merge) request\n",
    "![](_static/pull-request.png)\n",
    "![](_static/pull-request-2.png)\n",
    "__все сделано вено если идна такая картинка__\n",
    "![](_static/pull-request-correct.png)"
   ]
  },
  {
   "cell_type": "code",
   "execution_count": null,
   "metadata": {
    "collapsed": true
   },
   "outputs": [],
   "source": []
  }
 ],
 "metadata": {
  "kernelspec": {
   "display_name": "Python 3",
   "language": "python",
   "name": "python3"
  },
  "language_info": {
   "codemirror_mode": {
    "name": "ipython",
    "version": 3
   },
   "file_extension": ".py",
   "mimetype": "text/x-python",
   "name": "python",
   "nbconvert_exporter": "python",
   "pygments_lexer": "ipython3",
   "version": "3.4.3"
  },
  "varInspector": {
   "cols": {
    "lenName": 16,
    "lenType": 16,
    "lenVar": 40
   },
   "kernels_config": {
    "python": {
     "delete_cmd_postfix": "",
     "delete_cmd_prefix": "del ",
     "library": "var_list.py",
     "varRefreshCmd": "print(var_dic_list())"
    },
    "r": {
     "delete_cmd_postfix": ") ",
     "delete_cmd_prefix": "rm(",
     "library": "var_list.r",
     "varRefreshCmd": "cat(var_dic_list()) "
    }
   },
   "types_to_exclude": [
    "module",
    "function",
    "builtin_function_or_method",
    "instance",
    "_Feature"
   ],
   "window_display": false
  }
 },
 "nbformat": 4,
 "nbformat_minor": 2
}
